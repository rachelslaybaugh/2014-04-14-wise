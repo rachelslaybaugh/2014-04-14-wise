{
 "metadata": {
  "name": "matplotlib_master"
 },
 "nbformat": 3,
 "nbformat_minor": 0,
 "worksheets": [
  {
   "cells": [
    {
     "cell_type": "code",
     "collapsed": false,
     "input": [
      "%pylab\n",
      "#replace with %pyplot asap"
     ],
     "language": "python",
     "metadata": {},
     "outputs": [
      {
       "output_type": "stream",
       "stream": "stdout",
       "text": [
        "\n",
        "Welcome to pylab, a matplotlib-based Python environment [backend: TkAgg].\n",
        "For more information, type 'help(pylab)'.\n"
       ]
      }
     ],
     "prompt_number": 6
    },
    {
     "cell_type": "code",
     "collapsed": false,
     "input": [
      "from matplotlib import pyplot"
     ],
     "language": "python",
     "metadata": {},
     "outputs": [],
     "prompt_number": 7
    },
    {
     "cell_type": "markdown",
     "metadata": {},
     "source": [
      "###The most basic plot you can make"
     ]
    },
    {
     "cell_type": "code",
     "collapsed": false,
     "input": [
      "import numpy as np\n",
      "x = np.arange(10)\n",
      "y = np.sin(x)\n",
      "pyplot.plot(x, y)"
     ],
     "language": "python",
     "metadata": {},
     "outputs": [
      {
       "output_type": "pyout",
       "prompt_number": 58,
       "text": [
        "[<matplotlib.lines.Line2D at 0x10bd09c10>]"
       ]
      }
     ],
     "prompt_number": 58
    },
    {
     "cell_type": "markdown",
     "metadata": {},
     "source": [
      "You can modify the linestyle"
     ]
    },
    {
     "cell_type": "code",
     "collapsed": false,
     "input": [
      "pyplot.plot(x, y, linestyle = '--')"
     ],
     "language": "python",
     "metadata": {},
     "outputs": [
      {
       "output_type": "pyout",
       "prompt_number": 9,
       "text": [
        "[<matplotlib.lines.Line2D at 0x10b593850>]"
       ]
      }
     ],
     "prompt_number": 9
    },
    {
     "cell_type": "markdown",
     "metadata": {},
     "source": [
      "You can modify the symbol"
     ]
    },
    {
     "cell_type": "code",
     "collapsed": false,
     "input": [
      "pyplot.plot(x, y, marker = 'o')"
     ],
     "language": "python",
     "metadata": {},
     "outputs": [
      {
       "output_type": "pyout",
       "prompt_number": 10,
       "text": [
        "[<matplotlib.lines.Line2D at 0x10b597c50>]"
       ]
      }
     ],
     "prompt_number": 10
    },
    {
     "cell_type": "markdown",
     "metadata": {},
     "source": [
      "You can modify the color"
     ]
    },
    {
     "cell_type": "code",
     "collapsed": false,
     "input": [
      "pyplot.plot(x, y, color = 'salmon')"
     ],
     "language": "python",
     "metadata": {},
     "outputs": [
      {
       "output_type": "pyout",
       "prompt_number": 11,
       "text": [
        "[<matplotlib.lines.Line2D at 0x10b5a0210>]"
       ]
      }
     ],
     "prompt_number": 11
    },
    {
     "cell_type": "markdown",
     "metadata": {},
     "source": [
      "Label your plot"
     ]
    },
    {
     "cell_type": "code",
     "collapsed": false,
     "input": [
      "pyplot.xlabel('x')\n",
      "pyplot.ylabel('sin(x)')\n",
      "pyplot.title('Sine curve')"
     ],
     "language": "python",
     "metadata": {},
     "outputs": [
      {
       "output_type": "pyout",
       "prompt_number": 12,
       "text": [
        "<matplotlib.text.Text at 0x108088a10>"
       ]
      }
     ],
     "prompt_number": 12
    },
    {
     "cell_type": "markdown",
     "metadata": {},
     "source": [
      "##Object oriented plotting"
     ]
    },
    {
     "cell_type": "markdown",
     "metadata": {},
     "source": [
      "###Figure and subplots are objects"
     ]
    },
    {
     "cell_type": "code",
     "collapsed": false,
     "input": [
      "fig = pyplot.figure()\n",
      "ax = fig.add_subplot(1, 1, 1)\n",
      "ax.plot(x, y, marker = 's', linestyle = ':', color = 'lime')\n",
      "ax.set_xlabel('x')\n",
      "ax.set_ylabel('sin(x)')\n",
      "ax.set_title('My sine curve')"
     ],
     "language": "python",
     "metadata": {},
     "outputs": [
      {
       "output_type": "pyout",
       "prompt_number": 13,
       "text": [
        "<matplotlib.text.Text at 0x10b5be590>"
       ]
      }
     ],
     "prompt_number": 13
    },
    {
     "cell_type": "markdown",
     "metadata": {},
     "source": [
      "###Lines are objects"
     ]
    },
    {
     "cell_type": "code",
     "collapsed": false,
     "input": [
      "fig = pyplot.figure()\n",
      "ax = fig.add_subplot(1, 1, 1)\n",
      "l1 = ax.plot(x, y, marker = 's', linestyle = ':', color = 'lime')\n",
      "l2 = ax.plot(x, y+1, marker = 'o', color = 'r')\n",
      "ax.set_xlabel('x')\n",
      "ax.set_ylabel('sin(x)')\n",
      "ax.set_title('My sine curve')\n",
      "ax.set_xlim(0, 10)\n",
      "ax.set_ylim(-1, 2)"
     ],
     "language": "python",
     "metadata": {},
     "outputs": [
      {
       "output_type": "pyout",
       "prompt_number": 59,
       "text": [
        "(-1, 1)"
       ]
      }
     ],
     "prompt_number": 59
    },
    {
     "cell_type": "code",
     "collapsed": false,
     "input": [
      "ax.legend([l1[0], l2[0]], ['sine', 'sine + 1'], loc = 'best')"
     ],
     "language": "python",
     "metadata": {},
     "outputs": [
      {
       "output_type": "pyout",
       "prompt_number": 19,
       "text": [
        "<matplotlib.legend.Legend at 0x10b75a410>"
       ]
      }
     ],
     "prompt_number": 19
    },
    {
     "cell_type": "markdown",
     "metadata": {},
     "source": [
      "###Legends can be objects"
     ]
    },
    {
     "cell_type": "code",
     "collapsed": false,
     "input": [
      "leg = ax.legend([l1[0], l2[0]], ['sine', 'sine + 1'], loc = 'best')"
     ],
     "language": "python",
     "metadata": {},
     "outputs": [],
     "prompt_number": 44
    },
    {
     "cell_type": "code",
     "collapsed": false,
     "input": [
      "leg.set_frame_on(False)"
     ],
     "language": "python",
     "metadata": {},
     "outputs": [],
     "prompt_number": 33
    },
    {
     "cell_type": "code",
     "collapsed": false,
     "input": [
      "pyplot.draw()\n",
      "#or pyplot.show()"
     ],
     "language": "python",
     "metadata": {},
     "outputs": [],
     "prompt_number": 34
    },
    {
     "cell_type": "code",
     "collapsed": false,
     "input": [
      "leg.draggable()"
     ],
     "language": "python",
     "metadata": {},
     "outputs": [
      {
       "output_type": "pyout",
       "prompt_number": 42,
       "text": [
        "<matplotlib.legend.DraggableLegend at 0x10b70db50>"
       ]
      }
     ],
     "prompt_number": 42
    },
    {
     "cell_type": "markdown",
     "metadata": {},
     "source": [
      "##Challenge\n",
      "Using object oriented plotting, make a plot x**2, x**3, and x**4. Label your axes and title your plot. Make a legend. Drag your legend to a good location and give it a shadow"
     ]
    },
    {
     "cell_type": "markdown",
     "metadata": {},
     "source": [
      "###Solution"
     ]
    },
    {
     "cell_type": "code",
     "collapsed": false,
     "input": [
      "fig = pyplot.figure()\n",
      "ax = fig.add_subplot(1, 1, 1)\n",
      "x = np.arange(-10, 10, 1)\n",
      "l1 = ax.plot(x, x**2, marker = 's', linestyle = ':', color = 'lime')\n",
      "l2 = ax.plot(x, x**3, marker = 'o', color = 'r')\n",
      "l3 = ax.plot(x, x**4, marker = 'o', color = 'c')\n",
      "ax.set_xlabel('x')\n",
      "ax.set_ylabel('y')\n",
      "ax.set_title('My polynomials')\n",
      "leg = ax.legend([l1[0], l2[0], l3[0]], ['x^2', 'x^3', 'x^4'])\n",
      "leg.draggable()\n",
      "leg.shadow = True"
     ],
     "language": "python",
     "metadata": {},
     "outputs": [],
     "prompt_number": 60
    },
    {
     "cell_type": "markdown",
     "metadata": {},
     "source": [
      "###Other basics"
     ]
    },
    {
     "cell_type": "code",
     "collapsed": false,
     "input": [
      "pyplot.savefig('my_polynomials.pdf')\n",
      "pyplot.close()"
     ],
     "language": "python",
     "metadata": {},
     "outputs": [],
     "prompt_number": 61
    },
    {
     "cell_type": "markdown",
     "metadata": {},
     "source": [
      "matplotlib recognizes the file format based on the extension"
     ]
    },
    {
     "cell_type": "markdown",
     "metadata": {},
     "source": [
      "##Multiple Plots\n",
      "\n",
      "In the last example we added a subplot using (1, 1, 1) but we didn't really talk about it. This means 1 row, 1 column, plot #1. Let's make a plot with 2 rows"
     ]
    },
    {
     "cell_type": "code",
     "collapsed": false,
     "input": [
      "x = np.arange(10)\n",
      "y = x**3\n",
      "z = x**14"
     ],
     "language": "python",
     "metadata": {},
     "outputs": [],
     "prompt_number": 74
    },
    {
     "cell_type": "code",
     "collapsed": false,
     "input": [
      "fig = pyplot.figure()\n",
      "ax1 = fig.add_subplot(2, 1, 1)\n",
      "pyplot.draw()"
     ],
     "language": "python",
     "metadata": {},
     "outputs": [],
     "prompt_number": 81
    },
    {
     "cell_type": "code",
     "collapsed": false,
     "input": [
      "ax2 = fig.add_subplot(2, 1, 2)\n",
      "pyplot.draw()"
     ],
     "language": "python",
     "metadata": {},
     "outputs": [],
     "prompt_number": 82
    },
    {
     "cell_type": "code",
     "collapsed": false,
     "input": [
      "ax1.plot(x, y)\n",
      "ax2.plot(x, z)\n",
      "pyplot.draw()"
     ],
     "language": "python",
     "metadata": {},
     "outputs": [],
     "prompt_number": 83
    },
    {
     "cell_type": "markdown",
     "metadata": {},
     "source": [
      "Can set labels on both plots"
     ]
    },
    {
     "cell_type": "code",
     "collapsed": false,
     "input": [
      "ax1.set_ylabel('x**3')\n",
      "ax2.set_ylabel('x**14')"
     ],
     "language": "python",
     "metadata": {},
     "outputs": [
      {
       "output_type": "pyout",
       "prompt_number": 84,
       "text": [
        "<matplotlib.text.Text at 0x10b7b6790>"
       ]
      }
     ],
     "prompt_number": 84
    },
    {
     "cell_type": "markdown",
     "metadata": {},
     "source": [
      "###Latex formatting"
     ]
    },
    {
     "cell_type": "code",
     "collapsed": false,
     "input": [
      "ax1.set_ylabel(r'$x^{3}$')"
     ],
     "language": "python",
     "metadata": {},
     "outputs": [
      {
       "output_type": "pyout",
       "prompt_number": 89,
       "text": [
        "<matplotlib.text.Text at 0x10b788c50>"
       ]
      }
     ],
     "prompt_number": 89
    },
    {
     "cell_type": "code",
     "collapsed": false,
     "input": [
      "pyplot.draw()"
     ],
     "language": "python",
     "metadata": {},
     "outputs": [],
     "prompt_number": 90
    },
    {
     "cell_type": "markdown",
     "metadata": {},
     "source": [
      "###Multipage PDF (from: http://matplotlib.org/faq/howto_faq.html#save-multiple-plots-to-one-pdf-file)"
     ]
    },
    {
     "cell_type": "code",
     "collapsed": false,
     "input": [
      "from matplotlib.backends.backend_pdf import PdfPages\n",
      "pp = PdfPages('multipage.pdf')\n",
      "fig = pyplot.figure()\n",
      "ax = fig.add_subplot(1, 1, 1)\n",
      "ax.plot(x, y)\n",
      "pp.savefig()\n",
      "ax.cla()\n",
      "ax.plot(x, z)\n",
      "pp.savefig()\n",
      "pyplot.close()\n",
      "pp.close()"
     ],
     "language": "python",
     "metadata": {},
     "outputs": [],
     "prompt_number": 92
    },
    {
     "cell_type": "markdown",
     "metadata": {},
     "source": [
      "##Other commands I use a lot"
     ]
    },
    {
     "cell_type": "markdown",
     "metadata": {},
     "source": [
      "###guide lines (and scatter)"
     ]
    },
    {
     "cell_type": "code",
     "collapsed": false,
     "input": [
      "x = np.arange(10)\n",
      "y = [1, 5, 4, 7, 8, 4, 3, 2, 6, 7]\n",
      "z = [1, 1, 10, 6, 70, 5, 90, 4, 2, 1]\n",
      "pyplot.scatter(x, y, s = z, marker = 'o')"
     ],
     "language": "python",
     "metadata": {},
     "outputs": [
      {
       "output_type": "pyout",
       "prompt_number": 132,
       "text": [
        "<matplotlib.collections.PathCollection at 0x110c7f9d0>"
       ]
      }
     ],
     "prompt_number": 132
    },
    {
     "cell_type": "code",
     "collapsed": false,
     "input": [
      "#Turn on a grid\n",
      "pyplot.grid(b = True)"
     ],
     "language": "python",
     "metadata": {},
     "outputs": [],
     "prompt_number": 96
    },
    {
     "cell_type": "code",
     "collapsed": false,
     "input": [
      "pyplot.axvline(3)"
     ],
     "language": "python",
     "metadata": {},
     "outputs": [
      {
       "output_type": "pyout",
       "prompt_number": 97,
       "text": [
        "<matplotlib.lines.Line2D at 0x10b805610>"
       ]
      }
     ],
     "prompt_number": 97
    },
    {
     "cell_type": "code",
     "collapsed": false,
     "input": [
      "pyplot.axhline(3)"
     ],
     "language": "python",
     "metadata": {},
     "outputs": [
      {
       "output_type": "pyout",
       "prompt_number": 99,
       "text": [
        "<matplotlib.lines.Line2D at 0x10b812610>"
       ]
      }
     ],
     "prompt_number": 99
    },
    {
     "cell_type": "markdown",
     "metadata": {},
     "source": [
      "##Customizing your axes"
     ]
    },
    {
     "cell_type": "code",
     "collapsed": false,
     "input": [
      "fig = pyplot.figure()\n",
      "ax = fig.add_subplot(1, 1, 1)\n",
      "ax.plot(x, y)\n"
     ],
     "language": "python",
     "metadata": {},
     "outputs": [
      {
       "output_type": "pyout",
       "prompt_number": 116,
       "text": [
        "[<matplotlib.lines.Line2D at 0x110f38750>]"
       ]
      }
     ],
     "prompt_number": 116
    },
    {
     "cell_type": "markdown",
     "metadata": {},
     "source": [
      "Tick Locations"
     ]
    },
    {
     "cell_type": "code",
     "collapsed": false,
     "input": [
      "ax.set_xticks(np.arange(0, 10, 0.5))\n",
      "pyplot.draw()"
     ],
     "language": "python",
     "metadata": {},
     "outputs": [
      {
       "output_type": "pyout",
       "prompt_number": 117,
       "text": [
        "[<matplotlib.axis.XTick at 0x110f38b90>,\n",
        " <matplotlib.axis.XTick at 0x110f38310>,\n",
        " <matplotlib.axis.XTick at 0x110f3b810>,\n",
        " <matplotlib.axis.XTick at 0x10e9ee450>,\n",
        " <matplotlib.axis.XTick at 0x10e9eebd0>,\n",
        " <matplotlib.axis.XTick at 0x10e9f3350>,\n",
        " <matplotlib.axis.XTick at 0x10e9f3a90>,\n",
        " <matplotlib.axis.XTick at 0x110895210>,\n",
        " <matplotlib.axis.XTick at 0x110895950>,\n",
        " <matplotlib.axis.XTick at 0x11089c690>,\n",
        " <matplotlib.axis.XTick at 0x11088a650>,\n",
        " <matplotlib.axis.XTick at 0x110864a10>,\n",
        " <matplotlib.axis.XTick at 0x11088d850>,\n",
        " <matplotlib.axis.XTick at 0x11088de50>,\n",
        " <matplotlib.axis.XTick at 0x11089b5d0>,\n",
        " <matplotlib.axis.XTick at 0x11089bd10>,\n",
        " <matplotlib.axis.XTick at 0x1108b9190>,\n",
        " <matplotlib.axis.XTick at 0x1108b9890>,\n",
        " <matplotlib.axis.XTick at 0x10e9f3b90>,\n",
        " <matplotlib.axis.XTick at 0x10e9ee8d0>]"
       ]
      }
     ],
     "prompt_number": 117
    },
    {
     "cell_type": "markdown",
     "metadata": {},
     "source": [
      "Tick Labels"
     ]
    },
    {
     "cell_type": "code",
     "collapsed": false,
     "input": [
      "ax.set_xticklabels([0, 0.5, 1, 1.5, 2, 2.5, 3, 3.5, 4, 4.5, 5, 5.5, 6, 6.5, 7, 7.5, 8, 8.5, 9, 9.5])\n",
      "pyplot.draw()"
     ],
     "language": "python",
     "metadata": {},
     "outputs": [],
     "prompt_number": 123
    },
    {
     "cell_type": "markdown",
     "metadata": {},
     "source": [
      "Axis Labels"
     ]
    },
    {
     "cell_type": "code",
     "collapsed": false,
     "input": [
      "ax.set_xlabel('Time (s)', fontsize = 'large')\n",
      "pyplot.draw()"
     ],
     "language": "python",
     "metadata": {},
     "outputs": [],
     "prompt_number": 127
    },
    {
     "cell_type": "markdown",
     "metadata": {},
     "source": [
      "Browse the website: <a href = 'http://matplotlib.org/index.html'> Matplotlib Website </a>\n",
      "\n",
      "Check Out:\n",
      "\n",
      "* list of plotting commands\n",
      "* Thumbnail gallery"
     ]
    },
    {
     "cell_type": "code",
     "collapsed": false,
     "input": [],
     "language": "python",
     "metadata": {},
     "outputs": []
    }
   ],
   "metadata": {}
  }
 ]
}