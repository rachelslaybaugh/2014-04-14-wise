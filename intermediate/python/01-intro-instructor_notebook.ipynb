{
 "metadata": {
  "name": "01-intro-instructor_notebook"
 },
 "nbformat": 3,
 "nbformat_minor": 0,
 "worksheets": [
  {
   "cells": [
    {
     "cell_type": "code",
     "collapsed": false,
     "input": [
      "'c'"
     ],
     "language": "python",
     "metadata": {},
     "outputs": [
      {
       "output_type": "pyout",
       "prompt_number": 5,
       "text": [
        "'c'"
       ]
      }
     ],
     "prompt_number": 5
    },
    {
     "cell_type": "code",
     "collapsed": false,
     "input": [
      "'a'"
     ],
     "language": "python",
     "metadata": {},
     "outputs": [
      {
       "output_type": "pyout",
       "prompt_number": 6,
       "text": [
        "'a'"
       ]
      }
     ],
     "prompt_number": 6
    },
    {
     "cell_type": "code",
     "collapsed": false,
     "input": [
      "'b'"
     ],
     "language": "python",
     "metadata": {},
     "outputs": [
      {
       "output_type": "pyout",
       "prompt_number": 7,
       "text": [
        "'b'"
       ]
      }
     ],
     "prompt_number": 7
    },
    {
     "cell_type": "code",
     "collapsed": false,
     "input": [],
     "language": "python",
     "metadata": {},
     "outputs": [],
     "prompt_number": 7
    },
    {
     "cell_type": "code",
     "collapsed": false,
     "input": [
      "ofile = open('mosquito_data_A1.csv', 'r')\n",
      "print ofile.read()"
     ],
     "language": "python",
     "metadata": {},
     "outputs": [
      {
       "output_type": "stream",
       "stream": "stdout",
       "text": [
        "year,temperature,rainfall,mosquitos\n",
        "2001,87,222,198\n",
        "2002,72,103,105\n",
        "2003,77,176,166\n",
        "2004,89,236,210\n",
        "2005,88,283,242\n",
        "2006,89,151,147\n",
        "2007,71,121,117\n",
        "2008,88,267,232\n",
        "2009,85,211,191\n",
        "2010,75,101,106\n",
        "\n"
       ]
      }
     ],
     "prompt_number": 9
    },
    {
     "cell_type": "code",
     "collapsed": false,
     "input": [
      "import numpy as np"
     ],
     "language": "python",
     "metadata": {},
     "outputs": [],
     "prompt_number": 10
    },
    {
     "cell_type": "code",
     "collapsed": false,
     "input": [
      "np.genfromtxt('mosquito_data_A1.csv', unpack = True, skiprows = 1, delimiter = ',')"
     ],
     "language": "python",
     "metadata": {},
     "outputs": [
      {
       "output_type": "pyout",
       "prompt_number": 11,
       "text": [
        "array([[ 2001.,  2002.,  2003.,  2004.,  2005.,  2006.,  2007.,  2008.,\n",
        "         2009.,  2010.],\n",
        "       [   87.,    72.,    77.,    89.,    88.,    89.,    71.,    88.,\n",
        "           85.,    75.],\n",
        "       [  222.,   103.,   176.,   236.,   283.,   151.,   121.,   267.,\n",
        "          211.,   101.],\n",
        "       [  198.,   105.,   166.,   210.,   242.,   147.,   117.,   232.,\n",
        "          191.,   106.]])"
       ]
      }
     ],
     "prompt_number": 11
    },
    {
     "cell_type": "code",
     "collapsed": false,
     "input": [
      "d = np.genfromtxt('mosquito_data_A1.csv', unpack = True, skiprows = 1, delimiter = ',')"
     ],
     "language": "python",
     "metadata": {},
     "outputs": [],
     "prompt_number": 12
    },
    {
     "cell_type": "code",
     "collapsed": false,
     "input": [
      "print d"
     ],
     "language": "python",
     "metadata": {},
     "outputs": [
      {
       "output_type": "stream",
       "stream": "stdout",
       "text": [
        "[[ 2001.  2002.  2003.  2004.  2005.  2006.  2007.  2008.  2009.  2010.]\n",
        " [   87.    72.    77.    89.    88.    89.    71.    88.    85.    75.]\n",
        " [  222.   103.   176.   236.   283.   151.   121.   267.   211.   101.]\n",
        " [  198.   105.   166.   210.   242.   147.   117.   232.   191.   106.]]\n"
       ]
      }
     ],
     "prompt_number": 13
    },
    {
     "cell_type": "code",
     "collapsed": false,
     "input": [
      "data = np.genfromtxt('mosquito_data_A1.csv', unpack = True, skiprows = 1, delimiter = ',')"
     ],
     "language": "python",
     "metadata": {},
     "outputs": [],
     "prompt_number": 14
    },
    {
     "cell_type": "code",
     "collapsed": false,
     "input": [
      "print data"
     ],
     "language": "python",
     "metadata": {},
     "outputs": [
      {
       "output_type": "stream",
       "stream": "stdout",
       "text": [
        "[[ 2001.  2002.  2003.  2004.  2005.  2006.  2007.  2008.  2009.  2010.]\n",
        " [   87.    72.    77.    89.    88.    89.    71.    88.    85.    75.]\n",
        " [  222.   103.   176.   236.   283.   151.   121.   267.   211.   101.]\n",
        " [  198.   105.   166.   210.   242.   147.   117.   232.   191.   106.]]\n"
       ]
      }
     ],
     "prompt_number": 15
    },
    {
     "cell_type": "code",
     "collapsed": false,
     "input": [
      "a, b, c = [1, 2, 3]\n",
      "print a\n",
      "print b"
     ],
     "language": "python",
     "metadata": {},
     "outputs": [
      {
       "output_type": "stream",
       "stream": "stdout",
       "text": [
        "1\n",
        "2\n"
       ]
      }
     ],
     "prompt_number": 16
    },
    {
     "cell_type": "code",
     "collapsed": false,
     "input": [
      "z = [1, 2, 3]"
     ],
     "language": "python",
     "metadata": {},
     "outputs": [],
     "prompt_number": 17
    },
    {
     "cell_type": "code",
     "collapsed": false,
     "input": [
      "print z"
     ],
     "language": "python",
     "metadata": {},
     "outputs": [
      {
       "output_type": "stream",
       "stream": "stdout",
       "text": [
        "[1, 2, 3]\n"
       ]
      }
     ],
     "prompt_number": 18
    },
    {
     "cell_type": "code",
     "collapsed": false,
     "input": [
      "year, temperature, rainfall, mosquitos = data"
     ],
     "language": "python",
     "metadata": {},
     "outputs": [],
     "prompt_number": 19
    },
    {
     "cell_type": "code",
     "collapsed": false,
     "input": [
      "print year"
     ],
     "language": "python",
     "metadata": {},
     "outputs": [
      {
       "output_type": "stream",
       "stream": "stdout",
       "text": [
        "[ 2001.  2002.  2003.  2004.  2005.  2006.  2007.  2008.  2009.  2010.]\n"
       ]
      }
     ],
     "prompt_number": 20
    },
    {
     "cell_type": "code",
     "collapsed": false,
     "input": [
      "print type(year)"
     ],
     "language": "python",
     "metadata": {},
     "outputs": [
      {
       "output_type": "stream",
       "stream": "stdout",
       "text": [
        "<type 'numpy.ndarray'>\n"
       ]
      }
     ],
     "prompt_number": 21
    },
    {
     "cell_type": "code",
     "collapsed": false,
     "input": [
      "year *2"
     ],
     "language": "python",
     "metadata": {},
     "outputs": [
      {
       "output_type": "pyout",
       "prompt_number": 22,
       "text": [
        "array([ 4002.,  4004.,  4006.,  4008.,  4010.,  4012.,  4014.,  4016.,\n",
        "        4018.,  4020.])"
       ]
      }
     ],
     "prompt_number": 22
    },
    {
     "cell_type": "code",
     "collapsed": false,
     "input": [
      "year +4"
     ],
     "language": "python",
     "metadata": {},
     "outputs": [
      {
       "output_type": "pyout",
       "prompt_number": 23,
       "text": [
        "array([ 2005.,  2006.,  2007.,  2008.,  2009.,  2010.,  2011.,  2012.,\n",
        "        2013.,  2014.])"
       ]
      }
     ],
     "prompt_number": 23
    },
    {
     "cell_type": "code",
     "collapsed": false,
     "input": [
      "type(z)"
     ],
     "language": "python",
     "metadata": {},
     "outputs": [
      {
       "output_type": "pyout",
       "prompt_number": 24,
       "text": [
        "list"
       ]
      }
     ],
     "prompt_number": 24
    },
    {
     "cell_type": "code",
     "collapsed": false,
     "input": [
      "z * 2"
     ],
     "language": "python",
     "metadata": {},
     "outputs": [
      {
       "output_type": "pyout",
       "prompt_number": 25,
       "text": [
        "[1, 2, 3, 1, 2, 3]"
       ]
      }
     ],
     "prompt_number": 25
    },
    {
     "cell_type": "code",
     "collapsed": false,
     "input": [
      "z + [4]"
     ],
     "language": "python",
     "metadata": {},
     "outputs": [
      {
       "output_type": "pyout",
       "prompt_number": 26,
       "text": [
        "[1, 2, 3, 4]"
       ]
      }
     ],
     "prompt_number": 26
    },
    {
     "cell_type": "code",
     "collapsed": false,
     "input": [
      "my_list = ['a', 'b', 1, 2, 3]"
     ],
     "language": "python",
     "metadata": {},
     "outputs": [],
     "prompt_number": 27
    },
    {
     "cell_type": "code",
     "collapsed": false,
     "input": [
      "year * year"
     ],
     "language": "python",
     "metadata": {},
     "outputs": [
      {
       "output_type": "pyout",
       "prompt_number": 28,
       "text": [
        "array([ 4004001.,  4008004.,  4012009.,  4016016.,  4020025.,  4024036.,\n",
        "        4028049.,  4032064.,  4036081.,  4040100.])"
       ]
      }
     ],
     "prompt_number": 28
    },
    {
     "cell_type": "code",
     "collapsed": false,
     "input": [
      "z + 4"
     ],
     "language": "python",
     "metadata": {},
     "outputs": [
      {
       "ename": "TypeError",
       "evalue": "can only concatenate list (not \"int\") to list",
       "output_type": "pyerr",
       "traceback": [
        "\u001b[0;31m---------------------------------------------------------------------------\u001b[0m\n\u001b[0;31mTypeError\u001b[0m                                 Traceback (most recent call last)",
        "\u001b[0;32m<ipython-input-29-cd7957dc7702>\u001b[0m in \u001b[0;36m<module>\u001b[0;34m()\u001b[0m\n\u001b[0;32m----> 1\u001b[0;31m \u001b[0mz\u001b[0m \u001b[0;34m+\u001b[0m \u001b[0;36m4\u001b[0m\u001b[0;34m\u001b[0m\u001b[0m\n\u001b[0m",
        "\u001b[0;31mTypeError\u001b[0m: can only concatenate list (not \"int\") to list"
       ]
      }
     ],
     "prompt_number": 29
    },
    {
     "cell_type": "code",
     "collapsed": false,
     "input": [
      "year"
     ],
     "language": "python",
     "metadata": {},
     "outputs": [
      {
       "output_type": "pyout",
       "prompt_number": 30,
       "text": [
        "array([ 2001.,  2002.,  2003.,  2004.,  2005.,  2006.,  2007.,  2008.,\n",
        "        2009.,  2010.])"
       ]
      }
     ],
     "prompt_number": 30
    },
    {
     "cell_type": "code",
     "collapsed": false,
     "input": [
      "print year[0]\n",
      "print year[2:5], year[5:7]"
     ],
     "language": "python",
     "metadata": {},
     "outputs": [
      {
       "output_type": "stream",
       "stream": "stdout",
       "text": [
        "2001.0\n",
        "[ 2003.  2004.  2005.] [ 2006.  2007.]\n"
       ]
      }
     ],
     "prompt_number": 34
    },
    {
     "cell_type": "code",
     "collapsed": false,
     "input": [
      "year[:3]"
     ],
     "language": "python",
     "metadata": {},
     "outputs": [
      {
       "output_type": "pyout",
       "prompt_number": 35,
       "text": [
        "array([ 2001.,  2002.,  2003.])"
       ]
      }
     ],
     "prompt_number": 35
    },
    {
     "cell_type": "code",
     "collapsed": false,
     "input": [
      "year[-1]"
     ],
     "language": "python",
     "metadata": {},
     "outputs": [
      {
       "output_type": "pyout",
       "prompt_number": 36,
       "text": [
        "2010.0"
       ]
      }
     ],
     "prompt_number": 36
    },
    {
     "cell_type": "code",
     "collapsed": false,
     "input": [
      "year[-2]"
     ],
     "language": "python",
     "metadata": {},
     "outputs": [
      {
       "output_type": "pyout",
       "prompt_number": 37,
       "text": [
        "2009.0"
       ]
      }
     ],
     "prompt_number": 37
    },
    {
     "cell_type": "code",
     "collapsed": false,
     "input": [
      "year[3:]"
     ],
     "language": "python",
     "metadata": {},
     "outputs": [
      {
       "output_type": "pyout",
       "prompt_number": 38,
       "text": [
        "array([ 2004.,  2005.,  2006.,  2007.,  2008.,  2009.,  2010.])"
       ]
      }
     ],
     "prompt_number": 38
    },
    {
     "cell_type": "code",
     "collapsed": false,
     "input": [
      "year[-5:-2]"
     ],
     "language": "python",
     "metadata": {},
     "outputs": [
      {
       "output_type": "pyout",
       "prompt_number": 39,
       "text": [
        "array([ 2006.,  2007.,  2008.])"
       ]
      }
     ],
     "prompt_number": 39
    },
    {
     "cell_type": "code",
     "collapsed": false,
     "input": [
      "x = 2"
     ],
     "language": "python",
     "metadata": {},
     "outputs": [],
     "prompt_number": 40
    },
    {
     "cell_type": "code",
     "collapsed": false,
     "input": [
      "x.bit_length()"
     ],
     "language": "python",
     "metadata": {},
     "outputs": [
      {
       "output_type": "pyout",
       "prompt_number": 47,
       "text": [
        "2"
       ]
      }
     ],
     "prompt_number": 47
    },
    {
     "cell_type": "code",
     "collapsed": false,
     "input": [
      "x.numerator"
     ],
     "language": "python",
     "metadata": {},
     "outputs": [
      {
       "output_type": "pyout",
       "prompt_number": 44,
       "text": [
        "2"
       ]
      }
     ],
     "prompt_number": 44
    },
    {
     "cell_type": "code",
     "collapsed": false,
     "input": [
      "x.denominator"
     ],
     "language": "python",
     "metadata": {},
     "outputs": [
      {
       "output_type": "pyout",
       "prompt_number": 45,
       "text": [
        "1"
       ]
      }
     ],
     "prompt_number": 45
    },
    {
     "cell_type": "code",
     "collapsed": false,
     "input": [
      "dir(x)"
     ],
     "language": "python",
     "metadata": {},
     "outputs": [
      {
       "output_type": "pyout",
       "prompt_number": 49,
       "text": [
        "['__abs__',\n",
        " '__add__',\n",
        " '__and__',\n",
        " '__class__',\n",
        " '__cmp__',\n",
        " '__coerce__',\n",
        " '__delattr__',\n",
        " '__div__',\n",
        " '__divmod__',\n",
        " '__doc__',\n",
        " '__float__',\n",
        " '__floordiv__',\n",
        " '__format__',\n",
        " '__getattribute__',\n",
        " '__getnewargs__',\n",
        " '__hash__',\n",
        " '__hex__',\n",
        " '__index__',\n",
        " '__init__',\n",
        " '__int__',\n",
        " '__invert__',\n",
        " '__long__',\n",
        " '__lshift__',\n",
        " '__mod__',\n",
        " '__mul__',\n",
        " '__neg__',\n",
        " '__new__',\n",
        " '__nonzero__',\n",
        " '__oct__',\n",
        " '__or__',\n",
        " '__pos__',\n",
        " '__pow__',\n",
        " '__radd__',\n",
        " '__rand__',\n",
        " '__rdiv__',\n",
        " '__rdivmod__',\n",
        " '__reduce__',\n",
        " '__reduce_ex__',\n",
        " '__repr__',\n",
        " '__rfloordiv__',\n",
        " '__rlshift__',\n",
        " '__rmod__',\n",
        " '__rmul__',\n",
        " '__ror__',\n",
        " '__rpow__',\n",
        " '__rrshift__',\n",
        " '__rshift__',\n",
        " '__rsub__',\n",
        " '__rtruediv__',\n",
        " '__rxor__',\n",
        " '__setattr__',\n",
        " '__sizeof__',\n",
        " '__str__',\n",
        " '__sub__',\n",
        " '__subclasshook__',\n",
        " '__truediv__',\n",
        " '__trunc__',\n",
        " '__xor__',\n",
        " 'bit_length',\n",
        " 'conjugate',\n",
        " 'denominator',\n",
        " 'imag',\n",
        " 'numerator',\n",
        " 'real']"
       ]
      }
     ],
     "prompt_number": 49
    },
    {
     "cell_type": "code",
     "collapsed": false,
     "input": [
      "print temperature.mean()"
     ],
     "language": "python",
     "metadata": {},
     "outputs": [
      {
       "output_type": "stream",
       "stream": "stdout",
       "text": [
        "82.1\n"
       ]
      }
     ],
     "prompt_number": 50
    },
    {
     "cell_type": "code",
     "collapsed": false,
     "input": [
      "print np.mean(temperature)"
     ],
     "language": "python",
     "metadata": {},
     "outputs": [
      {
       "output_type": "stream",
       "stream": "stdout",
       "text": [
        "82.1\n"
       ]
      }
     ],
     "prompt_number": 52
    },
    {
     "cell_type": "code",
     "collapsed": false,
     "input": [
      "print z\n",
      "print temperature"
     ],
     "language": "python",
     "metadata": {},
     "outputs": [
      {
       "output_type": "stream",
       "stream": "stdout",
       "text": [
        "[1, 2, 3]\n",
        "[ 87.  72.  77.  89.  88.  89.  71.  88.  85.  75.]\n"
       ]
      }
     ],
     "prompt_number": 54
    },
    {
     "cell_type": "code",
     "collapsed": false,
     "input": [
      "z"
     ],
     "language": "python",
     "metadata": {},
     "outputs": [
      {
       "output_type": "pyout",
       "prompt_number": 55,
       "text": [
        "[1, 2, 3]"
       ]
      }
     ],
     "prompt_number": 55
    },
    {
     "cell_type": "code",
     "collapsed": false,
     "input": [
      "year.min()"
     ],
     "language": "python",
     "metadata": {},
     "outputs": [
      {
       "output_type": "pyout",
       "prompt_number": 56,
       "text": [
        "2001.0"
       ]
      }
     ],
     "prompt_number": 56
    },
    {
     "cell_type": "code",
     "collapsed": false,
     "input": [
      "mosquitos[1:3].std()"
     ],
     "language": "python",
     "metadata": {},
     "outputs": [
      {
       "output_type": "pyout",
       "prompt_number": 57,
       "text": [
        "30.5"
       ]
      }
     ],
     "prompt_number": 57
    },
    {
     "cell_type": "markdown",
     "metadata": {},
     "source": [
      "#Challenge\n",
      "Import the data from mosquito_data_A2.csv, create new variables that hold the arrays, and print the means and standard deviations for the weather variables (rainfall and temperature)."
     ]
    },
    {
     "cell_type": "code",
     "collapsed": false,
     "input": [
      "year, temperature, rainfall, mosquitos = np.genfromtxt('mosquito_data_A2.csv', unpack = True, delimiter = ',', skiprows = 1)\n",
      "print year\n",
      "print temperature"
     ],
     "language": "python",
     "metadata": {},
     "outputs": [
      {
       "output_type": "stream",
       "stream": "stdout",
       "text": [
        "[ 1960.  1961.  1962.  1963.  1964.  1965.  1966.  1967.  1968.  1969.\n",
        "  1970.  1971.  1972.  1973.  1974.  1975.  1976.  1977.  1978.  1979.\n",
        "  1980.  1981.  1982.  1983.  1984.  1985.  1986.  1987.  1988.  1989.\n",
        "  1990.  1991.  1992.  1993.  1994.  1995.  1996.  1997.  1998.  1999.\n",
        "  2000.  2001.  2002.  2003.  2004.  2005.  2006.  2007.  2008.  2009.\n",
        "  2010.]\n",
        "[ 76.  80.  85.  86.  87.  74.  75.  80.  85.  74.  74.  81.  76.  85.  75.\n",
        "  76.  89.  88.  81.  80.  83.  81.  90.  73.  90.  82.  84.  76.  82.  85.\n",
        "  83.  88.  88.  83.  76.  84.  76.  73.  81.  78.  81.  87.  72.  77.  89.\n",
        "  88.  89.  71.  88.  85.  75.]\n"
       ]
      }
     ],
     "prompt_number": 59
    },
    {
     "cell_type": "code",
     "collapsed": false,
     "input": [
      "print temperature.mean()\n",
      "print temperature.std()\n",
      "print rainfall.mean()\n",
      "print rainfall.std()"
     ],
     "language": "python",
     "metadata": {},
     "outputs": [
      {
       "output_type": "stream",
       "stream": "stdout",
       "text": [
        "81.2745098039\n",
        "5.50606949014\n",
        "195.0\n",
        "60.3814670957\n"
       ]
      }
     ],
     "prompt_number": 60
    },
    {
     "cell_type": "code",
     "collapsed": false,
     "input": [
      "for temp_in_f in temperature:\n",
      "    temp_in_c = (temp_in_f - 32) * 5 / 9.0\n",
      "    print temp_in_c\n",
      "    "
     ],
     "language": "python",
     "metadata": {},
     "outputs": [
      {
       "output_type": "stream",
       "stream": "stdout",
       "text": [
        "24.4444444444\n",
        "26.6666666667\n",
        "29.4444444444\n",
        "30.0\n",
        "30.5555555556\n",
        "23.3333333333\n",
        "23.8888888889\n",
        "26.6666666667\n",
        "29.4444444444\n",
        "23.3333333333\n",
        "23.3333333333\n",
        "27.2222222222\n",
        "24.4444444444\n",
        "29.4444444444\n",
        "23.8888888889\n",
        "24.4444444444\n",
        "31.6666666667\n",
        "31.1111111111\n",
        "27.2222222222\n",
        "26.6666666667\n",
        "28.3333333333\n",
        "27.2222222222\n",
        "32.2222222222\n",
        "22.7777777778\n",
        "32.2222222222\n",
        "27.7777777778\n",
        "28.8888888889\n",
        "24.4444444444\n",
        "27.7777777778\n",
        "29.4444444444\n",
        "28.3333333333\n",
        "31.1111111111\n",
        "31.1111111111\n",
        "28.3333333333\n",
        "24.4444444444\n",
        "28.8888888889\n",
        "24.4444444444\n",
        "22.7777777778\n",
        "27.2222222222\n",
        "25.5555555556\n",
        "27.2222222222\n",
        "30.5555555556\n",
        "22.2222222222\n",
        "25.0\n",
        "31.6666666667\n",
        "31.1111111111\n",
        "31.6666666667\n",
        "21.6666666667\n",
        "31.1111111111\n",
        "29.4444444444\n",
        "23.8888888889\n"
       ]
      }
     ],
     "prompt_number": 61
    },
    {
     "cell_type": "code",
     "collapsed": false,
     "input": [
      "3/4"
     ],
     "language": "python",
     "metadata": {},
     "outputs": [
      {
       "output_type": "pyout",
       "prompt_number": 62,
       "text": [
        "0"
       ]
      }
     ],
     "prompt_number": 62
    },
    {
     "cell_type": "code",
     "collapsed": false,
     "input": [
      "3//4"
     ],
     "language": "python",
     "metadata": {},
     "outputs": [
      {
       "output_type": "pyout",
       "prompt_number": 63,
       "text": [
        "0"
       ]
      }
     ],
     "prompt_number": 63
    },
    {
     "cell_type": "code",
     "collapsed": false,
     "input": [
      "3.0/4"
     ],
     "language": "python",
     "metadata": {},
     "outputs": [
      {
       "output_type": "pyout",
       "prompt_number": 64,
       "text": [
        "0.75"
       ]
      }
     ],
     "prompt_number": 64
    },
    {
     "cell_type": "code",
     "collapsed": false,
     "input": [
      "3/4.0"
     ],
     "language": "python",
     "metadata": {},
     "outputs": [
      {
       "output_type": "pyout",
       "prompt_number": 65,
       "text": [
        "0.75"
       ]
      }
     ],
     "prompt_number": 65
    },
    {
     "cell_type": "code",
     "collapsed": false,
     "input": [
      "int(0.75)"
     ],
     "language": "python",
     "metadata": {},
     "outputs": [
      {
       "output_type": "pyout",
       "prompt_number": 66,
       "text": [
        "0"
       ]
      }
     ],
     "prompt_number": 66
    },
    {
     "cell_type": "code",
     "collapsed": false,
     "input": [
      "if temperature[0] > 80:\n",
      "    print \"temp is greater than 80\", 'I am happy'"
     ],
     "language": "python",
     "metadata": {},
     "outputs": [],
     "prompt_number": 68
    },
    {
     "cell_type": "code",
     "collapsed": false,
     "input": [
      "print temperature[0]"
     ],
     "language": "python",
     "metadata": {},
     "outputs": [
      {
       "output_type": "stream",
       "stream": "stdout",
       "text": [
        "76.0\n"
       ]
      }
     ],
     "prompt_number": 69
    },
    {
     "cell_type": "raw",
     "metadata": {},
     "source": [
      ">=, ==, !="
     ]
    },
    {
     "cell_type": "code",
     "collapsed": false,
     "input": [
      "if temperature[0] < 87:\n",
      "    print 'temperature is < 87'\n",
      "    \n",
      "elif temperature[0] > 87:\n",
      "    print 'temperature is > 87'\n",
      "    print 'its too hot'\n",
      "else:\n",
      "    print 'temperature is 87'"
     ],
     "language": "python",
     "metadata": {},
     "outputs": [
      {
       "output_type": "stream",
       "stream": "stdout",
       "text": [
        "temperature is < 87\n"
       ]
      }
     ],
     "prompt_number": 71
    },
    {
     "cell_type": "markdown",
     "metadata": {},
     "source": [
      "#Challenge\n",
      "Import the data from mosquito_data_A2.csv and loop over the temperature values. For each temperature print out whether it is greater than the mean, less than the mean, or equal to the mean."
     ]
    },
    {
     "cell_type": "code",
     "collapsed": false,
     "input": [
      "year, temperature, rainfall, mosquitos = np.genfromtxt('mosquito_data_A2.csv', unpack = True, delimiter = ',', skiprows = 1)\n",
      "for temp in temperature:\n",
      "    if temp > temperature.mean():\n",
      "        print 'temp {1} is greater than mean {0}'.format(temp, 1)\n",
      "    elif temp < temperature.mean():\n",
      "        print 'temp {} is less than mean'.format(temp)\n",
      "    else:\n",
      "        print 'temp {} is equal to mean'.format(temp)"
     ],
     "language": "python",
     "metadata": {},
     "outputs": [
      {
       "output_type": "stream",
       "stream": "stdout",
       "text": [
        "temp 76.0 is less than mean\n",
        "temp 80.0 is less than mean\n",
        "temp 1 is greater than mean 85.0\n",
        "temp 1 is greater than mean 86.0\n",
        "temp 1 is greater than mean 87.0\n",
        "temp 74.0 is less than mean\n",
        "temp 75.0 is less than mean\n",
        "temp 80.0 is less than mean\n",
        "temp 1 is greater than mean 85.0\n",
        "temp 74.0 is less than mean\n",
        "temp 74.0 is less than mean\n",
        "temp 81.0 is less than mean\n",
        "temp 76.0 is less than mean\n",
        "temp 1 is greater than mean 85.0\n",
        "temp 75.0 is less than mean\n",
        "temp 76.0 is less than mean\n",
        "temp 1 is greater than mean 89.0\n",
        "temp 1 is greater than mean 88.0\n",
        "temp 81.0 is less than mean\n",
        "temp 80.0 is less than mean\n",
        "temp 1 is greater than mean 83.0\n",
        "temp 81.0 is less than mean\n",
        "temp 1 is greater than mean 90.0\n",
        "temp 73.0 is less than mean\n",
        "temp 1 is greater than mean 90.0\n",
        "temp 1 is greater than mean 82.0\n",
        "temp 1 is greater than mean 84.0\n",
        "temp 76.0 is less than mean\n",
        "temp 1 is greater than mean 82.0\n",
        "temp 1 is greater than mean 85.0\n",
        "temp 1 is greater than mean 83.0\n",
        "temp 1 is greater than mean 88.0\n",
        "temp 1 is greater than mean 88.0\n",
        "temp 1 is greater than mean 83.0\n",
        "temp 76.0 is less than mean\n",
        "temp 1 is greater than mean 84.0\n",
        "temp 76.0 is less than mean\n",
        "temp 73.0 is less than mean\n",
        "temp 81.0 is less than mean\n",
        "temp 78.0 is less than mean\n",
        "temp 81.0 is less than mean\n",
        "temp 1 is greater than mean 87.0\n",
        "temp 72.0 is less than mean\n",
        "temp 77.0 is less than mean\n",
        "temp 1 is greater than mean 89.0\n",
        "temp 1 is greater than mean 88.0\n",
        "temp 1 is greater than mean 89.0\n",
        "temp 71.0 is less than mean\n",
        "temp 1 is greater than mean 88.0\n",
        "temp 1 is greater than mean 85.0\n",
        "temp 75.0 is less than mean\n"
       ]
      }
     ],
     "prompt_number": 75
    },
    {
     "cell_type": "code",
     "collapsed": false,
     "input": [
      "np.mean(temperature)"
     ],
     "language": "python",
     "metadata": {},
     "outputs": [
      {
       "output_type": "pyout",
       "prompt_number": 76,
       "text": [
        "81.274509803921575"
       ]
      }
     ],
     "prompt_number": 76
    },
    {
     "cell_type": "code",
     "collapsed": false,
     "input": [
      "temperature.mean()"
     ],
     "language": "python",
     "metadata": {},
     "outputs": [
      {
       "output_type": "pyout",
       "prompt_number": 77,
       "text": [
        "81.274509803921575"
       ]
      }
     ],
     "prompt_number": 77
    },
    {
     "cell_type": "code",
     "collapsed": false,
     "input": [],
     "language": "python",
     "metadata": {},
     "outputs": []
    }
   ],
   "metadata": {}
  }
 ]
}